{
  "nbformat": 4,
  "nbformat_minor": 0,
  "metadata": {
    "colab": {
      "name": "AI-Project.ipynb",
      "provenance": [],
      "collapsed_sections": [
        "0h-HxV5W8Pft"
      ],
      "toc_visible": true
    },
    "kernelspec": {
      "display_name": "Python 3",
      "name": "python3"
    }
  },
  "cells": [
    {
      "cell_type": "markdown",
      "metadata": {
        "id": "7Vp_o9jaKkVs"
      },
      "source": [
        "#### **Fake News Detector**"
      ]
    },
    {
      "cell_type": "markdown",
      "metadata": {
        "id": "GO39dwYNKx6g"
      },
      "source": [
        "##### Group Members:\r\n",
        "\r\n",
        "\r\n",
        "\r\n",
        "1.   Nimrah Jawed (nj04707)\r\n",
        "2.   Umme Salma (us04315)\r\n",
        "3.   Qazi Talha (qt05099)\r\n",
        "\r\n",
        "\r\n"
      ]
    },
    {
      "cell_type": "markdown",
      "metadata": {
        "id": "W_jgjIGo2rFd"
      },
      "source": [
        "#### **Data Reading and Parsing**"
      ]
    },
    {
      "cell_type": "code",
      "metadata": {
        "colab": {
          "base_uri": "https://localhost:8080/"
        },
        "id": "n5AYQE_3Orlp",
        "outputId": "0dee9481-7b0a-4a27-e796-4a662a042788"
      },
      "source": [
        "from google.colab import drive\n",
        "drive.mount('/content/drive')"
      ],
      "execution_count": null,
      "outputs": [
        {
          "output_type": "stream",
          "text": [
            "Drive already mounted at /content/drive; to attempt to forcibly remount, call drive.mount(\"/content/drive\", force_remount=True).\n"
          ],
          "name": "stdout"
        }
      ]
    },
    {
      "cell_type": "code",
      "metadata": {
        "id": "lYvKo-XyO1wC"
      },
      "source": [
        "import math\n",
        "import numpy as np\n",
        "import pandas as pd\n",
        "import matplotlib.pyplot as plt\n",
        "import re\n",
        "import nltk\n",
        "from sklearn.metrics import accuracy_score, precision_score, f1_score, recall_score\n",
        "import sklearn\n",
        "from nltk.corpus import stopwords\n",
        "from wordcloud import WordCloud, STOPWORDS \n",
        "from sklearn.feature_extraction.text import TfidfVectorizer\n",
        "from sklearn.linear_model import SGDClassifier\n",
        "from sklearn.model_selection import GridSearchCV, train_test_split\n",
        "from sklearn.metrics import confusion_matrix, roc_curve, auc, classification_report\n",
        "from numpy.random import rand\n",
        "from numpy import log, dot, e\n",
        "from sklearn.preprocessing import MinMaxScaler\n",
        "from sklearn.linear_model import LogisticRegression\n",
        "from sklearn.feature_extraction.text import CountVectorizer\n",
        "from sklearn.metrics import confusion_matrix\n",
        "from sklearn import metrics\n",
        "import functools\n",
        "from sklearn.metrics import accuracy_score\n",
        "import operator \n",
        "from sklearn.naive_bayes import MultinomialNB\n",
        "from sklearn.tree import DecisionTreeClassifier \n",
        "import pickle\n",
        "from io import StringIO \n",
        "import ast\n",
        "from numpy import asarray\n",
        "from numpy import save\n",
        "from numpy import load\n",
        "import json\n"
      ],
      "execution_count": null,
      "outputs": []
    },
    {
      "cell_type": "markdown",
      "metadata": {
        "id": "PxZMhKSgKNTJ"
      },
      "source": [
        "#### **Data Set**"
      ]
    },
    {
      "cell_type": "markdown",
      "metadata": {
        "id": "141F3bG2KRmo"
      },
      "source": [
        "The Data is extracted from: https://www.kaggle.com/clmentbisaillon/fake-and-real-news-dataset\r\n",
        "\r\n",
        "\r\n"
      ]
    },
    {
      "cell_type": "code",
      "metadata": {
        "colab": {
          "base_uri": "https://localhost:8080/"
        },
        "id": "t920A0YYP8Fm",
        "outputId": "7726f777-fe3d-4c98-ca50-8d3a9a2922c1"
      },
      "source": [
        "fake_data = pd.read_csv('/content/drive/MyDrive/Data/Fake.csv')\n",
        "true_data = pd.read_csv('/content/drive/MyDrive/Data/True.csv')\n",
        "print(fake_data.shape)\n",
        "print(true_data.shape)"
      ],
      "execution_count": null,
      "outputs": [
        {
          "output_type": "stream",
          "text": [
            "(23481, 4)\n",
            "(21417, 4)\n"
          ],
          "name": "stdout"
        }
      ]
    },
    {
      "cell_type": "code",
      "metadata": {
        "id": "75r2BTjWQKXH"
      },
      "source": [
        "true_data['label'] = 1\n",
        "fake_data['label'] = 0"
      ],
      "execution_count": null,
      "outputs": []
    },
    {
      "cell_type": "code",
      "metadata": {
        "id": "tNIU3SznQOnz"
      },
      "source": [
        "data_frame = pd.concat([true_data, fake_data], ignore_index=True)"
      ],
      "execution_count": null,
      "outputs": []
    },
    {
      "cell_type": "code",
      "metadata": {
        "colab": {
          "base_uri": "https://localhost:8080/",
          "height": 307
        },
        "id": "PanXS14NLcvi",
        "outputId": "f9aa8cf7-1c3a-4946-e4b5-feb3567bc196"
      },
      "source": [
        "data_frame.groupby(\"label\")['text'].count().plot.bar()\r\n"
      ],
      "execution_count": null,
      "outputs": [
        {
          "output_type": "execute_result",
          "data": {
            "text/plain": [
              "<matplotlib.axes._subplots.AxesSubplot at 0x7fd79a2bd048>"
            ]
          },
          "metadata": {
            "tags": []
          },
          "execution_count": 110
        },
        {
          "output_type": "display_data",
          "data": {
            "image/png": "[encoded data removed]",
            "text/plain": [
              "<Figure size 432x288 with 1 Axes>"
            ]
          },
          "metadata": {
            "tags": []
          }
        }
      ]
    },
    {
      "cell_type": "markdown",
      "metadata": {
        "id": "K4_AEOQP22s9"
      },
      "source": [
        "#### **Data Cleaning and formatting**"
      ]
    },
    {
      "cell_type": "code",
      "metadata": {
        "id": "0SjIAejQQVjv"
      },
      "source": [
        "data_frame.drop(data_frame[data_frame.text == \" \"].index.tolist(), inplace=True)"
      ],
      "execution_count": null,
      "outputs": []
    },
    {
      "cell_type": "code",
      "metadata": {
        "colab": {
          "base_uri": "https://localhost:8080/",
          "height": 419
        },
        "id": "ldynX1giQa5Z",
        "outputId": "d66aa4c4-2559-499b-82c9-6d6a26ab0577"
      },
      "source": [
        "data_frame.drop(data_frame[data_frame.duplicated()].index.tolist(), inplace=True)\n",
        "data_frame\n",
        "#We have 405 samples that match with each other in terms of title, text, date and subject, so we remove them."
      ],
      "execution_count": null,
      "outputs": [
        {
          "output_type": "execute_result",
          "data": {
            "text/html": [
              "<div>\n",
              "<style scoped>\n",
              "    .dataframe tbody tr th:only-of-type {\n",
              "        vertical-align: middle;\n",
              "    }\n",
              "\n",
              "    .dataframe tbody tr th {\n",
              "        vertical-align: top;\n",
              "    }\n",
              "\n",
              "    .dataframe thead th {\n",
              "        text-align: right;\n",
              "    }\n",
              "</style>\n",
              "<table border=\"1\" class=\"dataframe\">\n",
              "  <thead>\n",
              "    <tr style=\"text-align: right;\">\n",
              "      <th></th>\n",
              "      <th>title</th>\n",
              "      <th>text</th>\n",
              "      <th>subject</th>\n",
              "      <th>date</th>\n",
              "      <th>label</th>\n",
              "    </tr>\n",
              "  </thead>\n",
              "  <tbody>\n",
              "    <tr>\n",
              "      <th>0</th>\n",
              "      <td>As U.S. budget fight looms, Republicans flip t...</td>\n",
              "      <td>WASHINGTON (Reuters) - The head of a conservat...</td>\n",
              "      <td>politicsNews</td>\n",
              "      <td>December 31, 2017</td>\n",
              "      <td>1</td>\n",
              "    </tr>\n",
              "    <tr>\n",
              "      <th>1</th>\n",
              "      <td>U.S. military to accept transgender recruits o...</td>\n",
              "      <td>WASHINGTON (Reuters) - Transgender people will...</td>\n",
              "      <td>politicsNews</td>\n",
              "      <td>December 29, 2017</td>\n",
              "      <td>1</td>\n",
              "    </tr>\n",
              "    <tr>\n",
              "      <th>2</th>\n",
              "      <td>Senior U.S. Republican senator: 'Let Mr. Muell...</td>\n",
              "      <td>WASHINGTON (Reuters) - The special counsel inv...</td>\n",
              "      <td>politicsNews</td>\n",
              "      <td>December 31, 2017</td>\n",
              "      <td>1</td>\n",
              "    </tr>\n",
              "    <tr>\n",
              "      <th>3</th>\n",
              "      <td>FBI Russia probe helped by Australian diplomat...</td>\n",
              "      <td>WASHINGTON (Reuters) - Trump campaign adviser ...</td>\n",
              "      <td>politicsNews</td>\n",
              "      <td>December 30, 2017</td>\n",
              "      <td>1</td>\n",
              "    </tr>\n",
              "    <tr>\n",
              "      <th>4</th>\n",
              "      <td>Trump wants Postal Service to charge 'much mor...</td>\n",
              "      <td>SEATTLE/WASHINGTON (Reuters) - President Donal...</td>\n",
              "      <td>politicsNews</td>\n",
              "      <td>December 29, 2017</td>\n",
              "      <td>1</td>\n",
              "    </tr>\n",
              "    <tr>\n",
              "      <th>...</th>\n",
              "      <td>...</td>\n",
              "      <td>...</td>\n",
              "      <td>...</td>\n",
              "      <td>...</td>\n",
              "      <td>...</td>\n",
              "    </tr>\n",
              "    <tr>\n",
              "      <th>44893</th>\n",
              "      <td>McPain: John McCain Furious That Iran Treated ...</td>\n",
              "      <td>21st Century Wire says As 21WIRE reported earl...</td>\n",
              "      <td>Middle-east</td>\n",
              "      <td>January 16, 2016</td>\n",
              "      <td>0</td>\n",
              "    </tr>\n",
              "    <tr>\n",
              "      <th>44894</th>\n",
              "      <td>JUSTICE? Yahoo Settles E-mail Privacy Class-ac...</td>\n",
              "      <td>21st Century Wire says It s a familiar theme. ...</td>\n",
              "      <td>Middle-east</td>\n",
              "      <td>January 16, 2016</td>\n",
              "      <td>0</td>\n",
              "    </tr>\n",
              "    <tr>\n",
              "      <th>44895</th>\n",
              "      <td>Sunnistan: US and Allied ‘Safe Zone’ Plan to T...</td>\n",
              "      <td>Patrick Henningsen  21st Century WireRemember ...</td>\n",
              "      <td>Middle-east</td>\n",
              "      <td>January 15, 2016</td>\n",
              "      <td>0</td>\n",
              "    </tr>\n",
              "    <tr>\n",
              "      <th>44896</th>\n",
              "      <td>How to Blow $700 Million: Al Jazeera America F...</td>\n",
              "      <td>21st Century Wire says Al Jazeera America will...</td>\n",
              "      <td>Middle-east</td>\n",
              "      <td>January 14, 2016</td>\n",
              "      <td>0</td>\n",
              "    </tr>\n",
              "    <tr>\n",
              "      <th>44897</th>\n",
              "      <td>10 U.S. Navy Sailors Held by Iranian Military ...</td>\n",
              "      <td>21st Century Wire says As 21WIRE predicted in ...</td>\n",
              "      <td>Middle-east</td>\n",
              "      <td>January 12, 2016</td>\n",
              "      <td>0</td>\n",
              "    </tr>\n",
              "  </tbody>\n",
              "</table>\n",
              "<p>44062 rows × 5 columns</p>\n",
              "</div>"
            ],
            "text/plain": [
              "                                                   title  ... label\n",
              "0      As U.S. budget fight looms, Republicans flip t...  ...     1\n",
              "1      U.S. military to accept transgender recruits o...  ...     1\n",
              "2      Senior U.S. Republican senator: 'Let Mr. Muell...  ...     1\n",
              "3      FBI Russia probe helped by Australian diplomat...  ...     1\n",
              "4      Trump wants Postal Service to charge 'much mor...  ...     1\n",
              "...                                                  ...  ...   ...\n",
              "44893  McPain: John McCain Furious That Iran Treated ...  ...     0\n",
              "44894  JUSTICE? Yahoo Settles E-mail Privacy Class-ac...  ...     0\n",
              "44895  Sunnistan: US and Allied ‘Safe Zone’ Plan to T...  ...     0\n",
              "44896  How to Blow $700 Million: Al Jazeera America F...  ...     0\n",
              "44897  10 U.S. Navy Sailors Held by Iranian Military ...  ...     0\n",
              "\n",
              "[44062 rows x 5 columns]"
            ]
          },
          "metadata": {
            "tags": []
          },
          "execution_count": 112
        }
      ]
    },
    {
      "cell_type": "code",
      "metadata": {
        "colab": {
          "base_uri": "https://localhost:8080/",
          "height": 419
        },
        "id": "OEiiOy0jQgAC",
        "outputId": "efc243cd-e9a6-4ff0-8dcb-4f5429151347"
      },
      "source": [
        "data_frame.drop(['title','subject','date'], axis=1, inplace=True)\n",
        "data_frame"
      ],
      "execution_count": null,
      "outputs": [
        {
          "output_type": "execute_result",
          "data": {
            "text/html": [
              "<div>\n",
              "<style scoped>\n",
              "    .dataframe tbody tr th:only-of-type {\n",
              "        vertical-align: middle;\n",
              "    }\n",
              "\n",
              "    .dataframe tbody tr th {\n",
              "        vertical-align: top;\n",
              "    }\n",
              "\n",
              "    .dataframe thead th {\n",
              "        text-align: right;\n",
              "    }\n",
              "</style>\n",
              "<table border=\"1\" class=\"dataframe\">\n",
              "  <thead>\n",
              "    <tr style=\"text-align: right;\">\n",
              "      <th></th>\n",
              "      <th>text</th>\n",
              "      <th>label</th>\n",
              "    </tr>\n",
              "  </thead>\n",
              "  <tbody>\n",
              "    <tr>\n",
              "      <th>0</th>\n",
              "      <td>WASHINGTON (Reuters) - The head of a conservat...</td>\n",
              "      <td>1</td>\n",
              "    </tr>\n",
              "    <tr>\n",
              "      <th>1</th>\n",
              "      <td>WASHINGTON (Reuters) - Transgender people will...</td>\n",
              "      <td>1</td>\n",
              "    </tr>\n",
              "    <tr>\n",
              "      <th>2</th>\n",
              "      <td>WASHINGTON (Reuters) - The special counsel inv...</td>\n",
              "      <td>1</td>\n",
              "    </tr>\n",
              "    <tr>\n",
              "      <th>3</th>\n",
              "      <td>WASHINGTON (Reuters) - Trump campaign adviser ...</td>\n",
              "      <td>1</td>\n",
              "    </tr>\n",
              "    <tr>\n",
              "      <th>4</th>\n",
              "      <td>SEATTLE/WASHINGTON (Reuters) - President Donal...</td>\n",
              "      <td>1</td>\n",
              "    </tr>\n",
              "    <tr>\n",
              "      <th>...</th>\n",
              "      <td>...</td>\n",
              "      <td>...</td>\n",
              "    </tr>\n",
              "    <tr>\n",
              "      <th>44893</th>\n",
              "      <td>21st Century Wire says As 21WIRE reported earl...</td>\n",
              "      <td>0</td>\n",
              "    </tr>\n",
              "    <tr>\n",
              "      <th>44894</th>\n",
              "      <td>21st Century Wire says It s a familiar theme. ...</td>\n",
              "      <td>0</td>\n",
              "    </tr>\n",
              "    <tr>\n",
              "      <th>44895</th>\n",
              "      <td>Patrick Henningsen  21st Century WireRemember ...</td>\n",
              "      <td>0</td>\n",
              "    </tr>\n",
              "    <tr>\n",
              "      <th>44896</th>\n",
              "      <td>21st Century Wire says Al Jazeera America will...</td>\n",
              "      <td>0</td>\n",
              "    </tr>\n",
              "    <tr>\n",
              "      <th>44897</th>\n",
              "      <td>21st Century Wire says As 21WIRE predicted in ...</td>\n",
              "      <td>0</td>\n",
              "    </tr>\n",
              "  </tbody>\n",
              "</table>\n",
              "<p>44062 rows × 2 columns</p>\n",
              "</div>"
            ],
            "text/plain": [
              "                                                    text  label\n",
              "0      WASHINGTON (Reuters) - The head of a conservat...      1\n",
              "1      WASHINGTON (Reuters) - Transgender people will...      1\n",
              "2      WASHINGTON (Reuters) - The special counsel inv...      1\n",
              "3      WASHINGTON (Reuters) - Trump campaign adviser ...      1\n",
              "4      SEATTLE/WASHINGTON (Reuters) - President Donal...      1\n",
              "...                                                  ...    ...\n",
              "44893  21st Century Wire says As 21WIRE reported earl...      0\n",
              "44894  21st Century Wire says It s a familiar theme. ...      0\n",
              "44895  Patrick Henningsen  21st Century WireRemember ...      0\n",
              "44896  21st Century Wire says Al Jazeera America will...      0\n",
              "44897  21st Century Wire says As 21WIRE predicted in ...      0\n",
              "\n",
              "[44062 rows x 2 columns]"
            ]
          },
          "metadata": {
            "tags": []
          },
          "execution_count": 113
        }
      ]
    },
    {
      "cell_type": "code",
      "metadata": {
        "colab": {
          "base_uri": "https://localhost:8080/",
          "height": 419
        },
        "id": "PgO5HUKyQklZ",
        "outputId": "3145503a-225f-4bbc-ba70-faec4c9db848"
      },
      "source": [
        "data_frame.drop(data_frame[data_frame.duplicated(['text'])].index.tolist(),inplace=True)\n",
        "data_frame\n",
        "\n",
        "#duplicated text remove"
      ],
      "execution_count": null,
      "outputs": [
        {
          "output_type": "execute_result",
          "data": {
            "text/html": [
              "<div>\n",
              "<style scoped>\n",
              "    .dataframe tbody tr th:only-of-type {\n",
              "        vertical-align: middle;\n",
              "    }\n",
              "\n",
              "    .dataframe tbody tr th {\n",
              "        vertical-align: top;\n",
              "    }\n",
              "\n",
              "    .dataframe thead th {\n",
              "        text-align: right;\n",
              "    }\n",
              "</style>\n",
              "<table border=\"1\" class=\"dataframe\">\n",
              "  <thead>\n",
              "    <tr style=\"text-align: right;\">\n",
              "      <th></th>\n",
              "      <th>text</th>\n",
              "      <th>label</th>\n",
              "    </tr>\n",
              "  </thead>\n",
              "  <tbody>\n",
              "    <tr>\n",
              "      <th>0</th>\n",
              "      <td>WASHINGTON (Reuters) - The head of a conservat...</td>\n",
              "      <td>1</td>\n",
              "    </tr>\n",
              "    <tr>\n",
              "      <th>1</th>\n",
              "      <td>WASHINGTON (Reuters) - Transgender people will...</td>\n",
              "      <td>1</td>\n",
              "    </tr>\n",
              "    <tr>\n",
              "      <th>2</th>\n",
              "      <td>WASHINGTON (Reuters) - The special counsel inv...</td>\n",
              "      <td>1</td>\n",
              "    </tr>\n",
              "    <tr>\n",
              "      <th>3</th>\n",
              "      <td>WASHINGTON (Reuters) - Trump campaign adviser ...</td>\n",
              "      <td>1</td>\n",
              "    </tr>\n",
              "    <tr>\n",
              "      <th>4</th>\n",
              "      <td>SEATTLE/WASHINGTON (Reuters) - President Donal...</td>\n",
              "      <td>1</td>\n",
              "    </tr>\n",
              "    <tr>\n",
              "      <th>...</th>\n",
              "      <td>...</td>\n",
              "      <td>...</td>\n",
              "    </tr>\n",
              "    <tr>\n",
              "      <th>44115</th>\n",
              "      <td>21st Century Wire says All the world s a stage...</td>\n",
              "      <td>0</td>\n",
              "    </tr>\n",
              "    <tr>\n",
              "      <th>44116</th>\n",
              "      <td>Randy Johnson 21st Century WireThe majority ...</td>\n",
              "      <td>0</td>\n",
              "    </tr>\n",
              "    <tr>\n",
              "      <th>44117</th>\n",
              "      <td>Tune in to the Alternate Current Radio Network...</td>\n",
              "      <td>0</td>\n",
              "    </tr>\n",
              "    <tr>\n",
              "      <th>44118</th>\n",
              "      <td>21st Century Wire says A new front has just op...</td>\n",
              "      <td>0</td>\n",
              "    </tr>\n",
              "    <tr>\n",
              "      <th>44119</th>\n",
              "      <td>21st Century Wire says It s not that far away....</td>\n",
              "      <td>0</td>\n",
              "    </tr>\n",
              "  </tbody>\n",
              "</table>\n",
              "<p>38645 rows × 2 columns</p>\n",
              "</div>"
            ],
            "text/plain": [
              "                                                    text  label\n",
              "0      WASHINGTON (Reuters) - The head of a conservat...      1\n",
              "1      WASHINGTON (Reuters) - Transgender people will...      1\n",
              "2      WASHINGTON (Reuters) - The special counsel inv...      1\n",
              "3      WASHINGTON (Reuters) - Trump campaign adviser ...      1\n",
              "4      SEATTLE/WASHINGTON (Reuters) - President Donal...      1\n",
              "...                                                  ...    ...\n",
              "44115  21st Century Wire says All the world s a stage...      0\n",
              "44116    Randy Johnson 21st Century WireThe majority ...      0\n",
              "44117  Tune in to the Alternate Current Radio Network...      0\n",
              "44118  21st Century Wire says A new front has just op...      0\n",
              "44119  21st Century Wire says It s not that far away....      0\n",
              "\n",
              "[38645 rows x 2 columns]"
            ]
          },
          "metadata": {
            "tags": []
          },
          "execution_count": 114
        }
      ]
    },
    {
      "cell_type": "code",
      "metadata": {
        "id": "av15oqGfERBF"
      },
      "source": [
        "accuracy_dict={}\r\n",
        "accuracy_dict[\"dts\"]=0\r\n",
        "accuracy_dict[\"nb\"]=0\r\n",
        "accuracy_dict[\"nbs\"]=0\r\n",
        "accuracy_dict[\"lro\"]=0\r\n",
        "accuracy_dict[\"lrs\"]=0"
      ],
      "execution_count": null,
      "outputs": []
    },
    {
      "cell_type": "code",
      "metadata": {
        "colab": {
          "base_uri": "https://localhost:8080/"
        },
        "id": "wVlXeJhD2vzF",
        "outputId": "a8c28939-28bb-4270-89b6-b62011f33c64"
      },
      "source": [
        "nltk.download('stopwords')\n",
        "nltk_stopwords = stopwords.words('english')\n",
        "wordcloud_stopwords = STOPWORDS\n",
        "\n",
        "nltk_stopwords.extend(wordcloud_stopwords)\n",
        "\n",
        "stopwords = set(nltk_stopwords)\n"
      ],
      "execution_count": null,
      "outputs": [
        {
          "output_type": "stream",
          "text": [
            "[nltk_data] Downloading package stopwords to /root/nltk_data...\n",
            "[nltk_data]   Package stopwords is already up-to-date!\n"
          ],
          "name": "stdout"
        }
      ]
    },
    {
      "cell_type": "markdown",
      "metadata": {
        "id": "O6zBiWyy3oUk"
      },
      "source": [
        "Now we clean the title feature\n",
        "\n",
        "We remove urls (if any)\n",
        "Perform decontractions\n",
        "Non-acronize few popular words\n",
        "Remove punctuations and all special characters\n",
        "Remove stopwords"
      ]
    },
    {
      "cell_type": "code",
      "metadata": {
        "id": "F4o75jh93Zkc"
      },
      "source": [
        "def clean(text):\n",
        "    text = text.lower()\n",
        "    #remove URLS\n",
        "    text = re.sub(\"http\\S+\", '', str(text))\n",
        "\n",
        "    # Punctuations & special characters\n",
        "    text = re.sub(\"[^A-Za-z0-9]+\",\" \", str(text))\n",
        "    text = re.sub(r\"'s$\", \" is\", str(text))\n",
        "    text = re.sub(r\"'re$\", \" are\", str(text))\n",
        "    text = re.sub(r\"'t$\", \" not\", str(text))\n",
        "    text = re.sub(r\"'ll$\", \" will\", str(text))\n",
        "    text = re.sub(r\"'ve$\", \" have\", str(text))\n",
        "    text = re.sub(r\"'d$\", \" would\", str(text))\n",
        "    text = re.sub('\\n', '', text)\n",
        "   \n",
        "    # Stop word removal\n",
        "    text = \" \".join(str(i).lower() for i in text.split() if i.lower() not in stopwords)\n",
        "\n",
        "    return text"
      ],
      "execution_count": null,
      "outputs": []
    },
    {
      "cell_type": "code",
      "metadata": {
        "id": "CxIMqjo56RCL"
      },
      "source": [
        "data_frame['text']=data_frame['text'].apply(clean)"
      ],
      "execution_count": null,
      "outputs": []
    },
    {
      "cell_type": "markdown",
      "metadata": {
        "id": "0h-HxV5W8Pft"
      },
      "source": [
        "#### **Spliting into train test and using Tf-Idf**"
      ]
    },
    {
      "cell_type": "code",
      "metadata": {
        "colab": {
          "base_uri": "https://localhost:8080/"
        },
        "id": "JLASMc0N8p0P",
        "outputId": "19e7c05b-c776-45cb-f3d4-06ba5138bcd4"
      },
      "source": [
        "X_train, X_test, y_train, y_test = train_test_split(data_frame.drop('label',axis=1), data_frame.label, test_size=0.2, random_state=42)\n",
        "\n",
        "print(X_train.shape, y_train.shape)\n",
        "print(X_test.shape, y_test.shape)"
      ],
      "execution_count": null,
      "outputs": [
        {
          "output_type": "stream",
          "text": [
            "(30916, 1) (30916,)\n",
            "(7729, 1) (7729,)\n"
          ],
          "name": "stdout"
        }
      ]
    },
    {
      "cell_type": "code",
      "metadata": {
        "colab": {
          "base_uri": "https://localhost:8080/"
        },
        "id": "i5U-xnXl8eBy",
        "outputId": "adceab5d-0500-444f-e0ca-c6e55d20be23"
      },
      "source": [
        "vectorizer = TfidfVectorizer(min_df=0.01,ngram_range=(1,3))\n",
        "vectorizer.fit(X_train.text)\n",
        "\n",
        "X_tr = vectorizer.transform(X_train.text)\n",
        "X_te = vectorizer.transform(X_test.text)\n",
        "\n",
        "print(X_tr.shape, X_te.shape)"
      ],
      "execution_count": null,
      "outputs": [
        {
          "output_type": "stream",
          "text": [
            "(30916, 3513) (7729, 3513)\n"
          ],
          "name": "stdout"
        }
      ]
    },
    {
      "cell_type": "markdown",
      "metadata": {
        "id": "z3Dl9wqB4kCg"
      },
      "source": [
        "### **Models**"
      ]
    },
    {
      "cell_type": "markdown",
      "metadata": {
        "id": "_fxR8Y5767yB"
      },
      "source": [
        "#### **Logistic Regression (Our Model)**"
      ]
    },
    {
      "cell_type": "code",
      "metadata": {
        "colab": {
          "base_uri": "https://localhost:8080/"
        },
        "id": "dNKoG1wk5qtv",
        "outputId": "1e7a500f-3759-4e82-9c6c-57b094437fe9"
      },
      "source": [
        "def sigmoid(value):\r\n",
        "    ans = 1/(1 + np.exp(-value))\r\n",
        "    return (ans)\r\n",
        "\r\n",
        "\r\n",
        "def train(X, y, lr, iters):\r\n",
        "    no_of_samples, no_of_features = X.shape\r\n",
        "\r\n",
        "    weights = np.zeros(no_of_features)\r\n",
        "    bias = 0\r\n",
        "\r\n",
        "    for i in range(iters):\r\n",
        "        \r\n",
        "        # train model to get predictions\r\n",
        "        model = X.dot(weights) \r\n",
        "        y_pred = sigmoid(model)\r\n",
        "\r\n",
        "        #Analyze cost decrese\r\n",
        "        cost = -(1/no_of_samples) * np.sum(y*np.log(model))\r\n",
        "        \r\n",
        "        #Check minima from gradient\r\n",
        "        gradient = 1/no_of_samples  * X.T.dot(y_pred - y)\r\n",
        "\r\n",
        "        #update weights\r\n",
        "        weights -= lr * gradient\r\n",
        "\r\n",
        "    return weights\r\n",
        "\r\n",
        "\r\n",
        "def predict(X, weights):\r\n",
        "    #Predicting on input\r\n",
        "    model = X.dot(weights) \r\n",
        "    y_pred = sigmoid(model)\r\n",
        "    list_of_predicted_labels = [1 if i > 0.5 else 0 for i in y_pred]\r\n",
        "    return np.array(list_of_predicted_labels)\r\n",
        "\r\n",
        "#Set Values\r\n",
        "lr = 0.001\r\n",
        "iters = 1000\r\n",
        "\r\n",
        "weights = train(X_tr, y_train, lr, iters)\r\n",
        "\r\n",
        "# save('weights.npy', weights)\r\n",
        "\r\n",
        "\r\n"
      ],
      "execution_count": null,
      "outputs": [
        {
          "output_type": "stream",
          "text": [
            "/usr/local/lib/python3.6/dist-packages/ipykernel_launcher.py:19: RuntimeWarning:\n",
            "\n",
            "divide by zero encountered in log\n",
            "\n",
            "/usr/local/lib/python3.6/dist-packages/ipykernel_launcher.py:19: RuntimeWarning:\n",
            "\n",
            "invalid value encountered in log\n",
            "\n"
          ],
          "name": "stderr"
        }
      ]
    },
    {
      "cell_type": "code",
      "metadata": {
        "colab": {
          "base_uri": "https://localhost:8080/"
        },
        "id": "oPL8DSi2-RMg",
        "outputId": "d2876777-1ce2-416c-8170-cf1f501fd4c9"
      },
      "source": [
        "y_pred = predict(X_te, weights)\r\n",
        "accuracy  = np.sum([y_pred==y_test])/ len(y_test)\r\n",
        "print(accuracy)\r\n",
        "accuracy_dict[\"lro\"]=accuracy"
      ],
      "execution_count": null,
      "outputs": [
        {
          "output_type": "stream",
          "text": [
            "0.882520377797904\n"
          ],
          "name": "stdout"
        }
      ]
    },
    {
      "cell_type": "markdown",
      "metadata": {
        "id": "Hm3D51KX7j3y"
      },
      "source": [
        "#### **Logistic Regression- SCIKIT Learn Model**"
      ]
    },
    {
      "cell_type": "code",
      "metadata": {
        "colab": {
          "base_uri": "https://localhost:8080/"
        },
        "id": "eSwO2O9U19ku",
        "outputId": "3ee46ac6-adcf-482f-efbd-b379ebe313eb"
      },
      "source": [
        "logreg = LogisticRegression()\n",
        "learnmodel = logreg.fit(X_tr, y_train)\n",
        "lr_prediction = learnmodel.predict(X_te)\n",
        "accuracy = accuracy_score(lr_prediction, y_test)\n",
        "print(\"The accuracy score is :\",accuracy)\n",
        "accuracy_dict[\"lrs\"]=accuracy"
      ],
      "execution_count": null,
      "outputs": [
        {
          "output_type": "stream",
          "text": [
            "The accuracy score is : 0.987449864148014\n"
          ],
          "name": "stdout"
        }
      ]
    },
    {
      "cell_type": "markdown",
      "metadata": {
        "id": "cAZTfoBKCLyO"
      },
      "source": [
        "#### **Naive Bayes (Our Model)**"
      ]
    },
    {
      "cell_type": "code",
      "metadata": {
        "colab": {
          "base_uri": "https://localhost:8080/"
        },
        "id": "R7Cxfpvv_tUU",
        "outputId": "466e8f58-cf33-4973-911f-d961f86ca0c5"
      },
      "source": [
        "class_prob_dict={}\n",
        "\n",
        "def learn_model(data,target):\n",
        "    \n",
        "    #get list of all classes\n",
        "    class_list = sorted(target.unique())\n",
        "    encoded_doc = data.toarray()\n",
        "\n",
        "    #find shape of the data\n",
        "    get_index = lambda data, i : data[i]\n",
        "    data_row = get_index(encoded_doc.shape, 0)\n",
        "    data_col = get_index(encoded_doc.shape,1)\n",
        "\n",
        "    #creating a 2d array of conditional probabilities\n",
        "    conditioned_probabilities =np.array([[0.0 for j in range(data_col)] for i in range(len(class_list))])\n",
        "    \n",
        "    #initializing probabilites with 0\n",
        "    for i in range(len(class_list)):\n",
        "      class_prob_dict[class_list[i]]=0\n",
        "    \n",
        "    #populating class dictionary with its probabilities\n",
        "    for i in range(len(class_list)):\n",
        "      current= encoded_doc[target == class_list[i]]\n",
        "      class_row= get_index(current.shape, 0)\n",
        "      class_prob_dict[class_list[i]]= float(class_row/data_row)\n",
        "      #populating the 2d array by finding conditional probabilities\n",
        "      #laplace smoothing\n",
        "      conditioned_probabilities [i]=(np.sum(current,axis=0) +1)\n",
        "      conditioned_probabilities [i]=conditioned_probabilities [i]/np.sum(conditioned_probabilities [i])\n",
        "      \n",
        "    classifier= conditioned_probabilities\n",
        "    return classifier\n",
        "\n",
        "\n",
        "\n",
        "\n",
        "def classify(classifier, testdata):\n",
        "  \n",
        "    predicted_val=[]\n",
        "    #finding number of rows in testdata\n",
        "    Test = testdata.toarray()\n",
        "    get_index = lambda data, i : data[i]\n",
        "    test_row =  get_index(Test.shape, 0)\n",
        "    \n",
        "    #initializing \n",
        "    conditioned_probabilities = classifier\n",
        "    class_prob = class_prob_dict.copy()\n",
        "    classes = list(class_prob.keys())\n",
        "    class_list_len = len(classes)\n",
        "\n",
        "\n",
        "\n",
        "    for i in range(test_row):\n",
        "      #initial probabilities of all classes is -1\n",
        "      most_likely_class_list = [-1 for i in range(class_list_len)]\n",
        "      for j in range(class_list_len):\n",
        "        #finding probability of a particular class\n",
        "        prob_class = class_prob[classes[j]]\n",
        "        #finding all probabilites of Attribute given class\n",
        "        prob_attr_given_class_list =  conditioned_probabilities[j][Test[i]!=0]\n",
        "        #multiplying all probabilities of Attribute given class\n",
        "        prob_attr_given_class =functools.reduce(operator.mul, prob_attr_given_class_list,1)\n",
        "        #computing P(A|C)*P(C)\n",
        "        most_likely_class_list[j]= float(prob_attr_given_class)*prob_class\n",
        "\n",
        "      #selecting class with max probability\n",
        "      most_likely_class =np.argmax(most_likely_class_list)\n",
        "      predicted_val.append(classes[most_likely_class])\n",
        "\n",
        "    return predicted_val\n",
        "\n",
        "\n",
        "def evaluate(actual_class, predicted_class):   \n",
        "\n",
        "    #finding accuracy     \n",
        "    accuracy = -1  \n",
        "    accuracy  = np.sum([actual_class==predicted_class])/ len(actual_class) \n",
        "    actual_class = list(actual_class)\n",
        "\n",
        "    #confusion Matrix\n",
        "    cf = confusion_matrix(actual_class, predicted_class)\n",
        "\n",
        "    #calculating TP, FP, FN and TN\n",
        "    TP=[]\n",
        "    for i in range(len(cf)):\n",
        "      for j in range(len(cf)):\n",
        "        if (i==j):\n",
        "          TP.append(cf[i][j])\n",
        "    \n",
        "    FP =[]\n",
        "    FN = []\n",
        "    for i in range (len(cf)):\n",
        "      calcFP= 0\n",
        "      calcFN=0\n",
        "      for j in range(len(cf)):\n",
        "        \n",
        "        calcFP+=cf[i][j]\n",
        "        calcFN+=cf[j][i]\n",
        "      FP.append(calcFP)\n",
        "      FN.append(calcFN)\n",
        "\n",
        "    #precision\n",
        "    #TP/TP+FP\n",
        "    Precision=[]\n",
        "\n",
        "    #f_measure\n",
        "    #2*Precision*Recall/Precision+Recall\n",
        "    Fmeasure = []\n",
        "\n",
        "    #Recall\n",
        "    #TP/TP+FN\n",
        "    Recall=[]\n",
        "\n",
        "    for i in range(len(TP)):\n",
        "      if TP[i]==0:\n",
        "        Precision.append(0)\n",
        "        Recall.append(0)\n",
        "        Fmeasure.append(0)\n",
        "      else:\n",
        "        calcP= TP[i]/FP[i]\n",
        "        Precision.append(calcP)\n",
        "        calcR = TP[i]/FN[i]\n",
        "        Recall.append(calcR)\n",
        "        calcFm = (2*calcP*calcR)/(calcP+calcR)\n",
        "        Fmeasure.append(calcFm)\n",
        "    \n",
        "    print(\"The accuracy score is :\",accuracy)\n",
        "    accuracy_dict[\"nb\"]=accuracy\n",
        "    print(\"The accuracy in % is: \",round(accuracy*100,2),\"%\")\n",
        "    print(\"The Precision is :\",Precision)\n",
        "    print(\"The Recall is :\",Recall)\n",
        "    print(\"The F_measure is :\",Fmeasure)\n",
        "\n",
        "\n",
        "print(\"Learning model.....\")\n",
        "model = learn_model(X_tr, y_train)\n",
        "\n",
        "# save('NB.npy', model)\n",
        "# data = load('NB.npy')\n",
        "# y_pred = classify(model, X_te)\n",
        "# f = open(\"dictionary.pkl\",\"wb\")\n",
        "# pickle.dump(class_prob_dict,f)\n",
        "# f.close()\n",
        "# x=load(\"dictionary.pkl\", \"rb\", allow_pickle=True)\n",
        "# print(x)\n",
        "print(\"Classifying test data......\")  \n",
        "predictedY = classify(model, X_te)\n",
        "# print(predictedY)\n",
        "\n",
        "print(\"Evaluating results.....\")\n",
        "evaluate(y_test,predictedY)\n",
        "\n"
      ],
      "execution_count": null,
      "outputs": [
        {
          "output_type": "stream",
          "text": [
            "Learning model.....\n",
            "Classifying test data......\n",
            "Evaluating results.....\n",
            "The accuracy score is : 0.6473023677060422\n",
            "The accuracy in % is:  64.73 %\n",
            "The Precision is : [0.9798966111430213, 0.3746173769719802]\n",
            "The Recall is : [0.5622940013183916, 0.9578567128236002]\n",
            "The F_measure is : [0.7145549738219896, 0.5385917400135409]\n"
          ],
          "name": "stdout"
        }
      ]
    },
    {
      "cell_type": "markdown",
      "metadata": {
        "id": "4KFA_erp8W6P"
      },
      "source": [
        "#### **Naive Bayes- SCIKIT Learn Model**"
      ]
    },
    {
      "cell_type": "code",
      "metadata": {
        "colab": {
          "base_uri": "https://localhost:8080/"
        },
        "id": "I6KJHbIYCQIg",
        "outputId": "bcd57533-ca37-4edc-ea0e-4f60ad186d2a"
      },
      "source": [
        "MNB = MultinomialNB()\n",
        "learnmodel = MNB.fit(X_tr, y_train)\n",
        "MNB_prediction = learnmodel.predict(X_te)\n",
        "accuracy = accuracy_score(MNB_prediction, y_test)  \n",
        "print(\"The accuracy score is :\",accuracy)\n",
        "accuracy_dict[\"nbs\"]=accuracy\n",
        "# filename = 'MNB_model.sav'\n",
        "# pickle.dump(MNB, open(filename, 'wb'))"
      ],
      "execution_count": null,
      "outputs": [
        {
          "output_type": "stream",
          "text": [
            "The accuracy score is : 0.9455298227455039\n"
          ],
          "name": "stdout"
        }
      ]
    },
    {
      "cell_type": "markdown",
      "metadata": {
        "id": "YcUuHrqv4d1K"
      },
      "source": [
        "#### **Decision Tree- SCIKIT Learn Model**"
      ]
    },
    {
      "cell_type": "code",
      "metadata": {
        "id": "BB7pRu3I4lID",
        "colab": {
          "base_uri": "https://localhost:8080/"
        },
        "outputId": "4e6366eb-7bd0-42e8-ed18-12bcba8c59ff"
      },
      "source": [
        "DT=DecisionTreeClassifier()\r\n",
        "LM=DT.fit(X_tr, y_train)\r\n",
        "dtpred=LM.predict(X_te)\r\n",
        "accuracy =accuracy_score(dtpred, y_test)\r\n",
        "print(\"The accuracy score is :\",accuracy)\r\n",
        "accuracy_dict[\"dts\"]=accuracy\r\n",
        "# filename = 'DT_model.sav'\r\n",
        "# pickle.dump(DT, open(filename, 'wb'))"
      ],
      "execution_count": null,
      "outputs": [
        {
          "output_type": "stream",
          "text": [
            "The accuracy score is : 0.9948246862466037\n"
          ],
          "name": "stdout"
        }
      ]
    },
    {
      "cell_type": "markdown",
      "metadata": {
        "id": "g5KBlkA77glu"
      },
      "source": [
        "#### **Performance Measures**"
      ]
    },
    {
      "cell_type": "code",
      "metadata": {
        "id": "Hm9ztPCW9m0U"
      },
      "source": [
        "def evaluate(actual_class, predicted_class):\r\n",
        "        \r\n",
        "    accuracy = accuracy_score(predicted_class, actual_class)  \r\n",
        "    precision = precision_score(predicted_class, actual_class, average=None)\r\n",
        "    recall = recall_score(predicted_class, actual_class, average=None)\r\n",
        "    f_measure = f1_score(predicted_class, actual_class,average=None) \r\n",
        "    \r\n",
        "    \r\n",
        "    print(\"The accuracy score is :\",accuracy)\r\n",
        "    print(\"The accuracy in % is: \",round(accuracy*100,2),\"%\")\r\n",
        "    print(\"The precision score is :\",precision)\r\n",
        "    print(\"The recall score is :\",recall)\r\n",
        "    print(\"The f_measure score is :\",f_measure,\"\\n\")"
      ],
      "execution_count": null,
      "outputs": []
    },
    {
      "cell_type": "code",
      "metadata": {
        "id": "Nkmh2lRZDYjJ"
      },
      "source": [
        "import numpy as np\r\n",
        "\r\n",
        "\r\n",
        "def plot_confusion_matrix(cm,\r\n",
        "                          target_names,\r\n",
        "                          title='Confusion matrix',\r\n",
        "                          cmap=None,\r\n",
        "                          normalize=True):\r\n",
        "    \"\"\"\r\n",
        "    Citiation\r\n",
        "    ---------\r\n",
        "    http://scikit-learn.org/stable/auto_examples/model_selection/plot_confusion_matrix.html\r\n",
        "\r\n",
        "    \"\"\"\r\n",
        "    import matplotlib.pyplot as plt\r\n",
        "    import numpy as np\r\n",
        "    import itertools\r\n",
        "\r\n",
        "    accuracy = np.trace(cm) / float(np.sum(cm))\r\n",
        "    misclass = 1 - accuracy\r\n",
        "\r\n",
        "    if cmap is None:\r\n",
        "        cmap = plt.get_cmap('Blues')\r\n",
        "\r\n",
        "    plt.figure(figsize=(8, 6))\r\n",
        "    plt.imshow(cm, interpolation='nearest', cmap=cmap)\r\n",
        "    plt.title(title)\r\n",
        "    plt.colorbar()\r\n",
        "\r\n",
        "    if target_names is not None:\r\n",
        "        tick_marks = np.arange(len(target_names))\r\n",
        "        plt.xticks(tick_marks, target_names, rotation=45)\r\n",
        "        plt.yticks(tick_marks, target_names)\r\n",
        "\r\n",
        "    if normalize:\r\n",
        "        cm = cm.astype('float') / cm.sum(axis=1)[:, np.newaxis]\r\n",
        "\r\n",
        "\r\n",
        "    thresh = cm.max() / 1.5 if normalize else cm.max() / 2\r\n",
        "    for i, j in itertools.product(range(cm.shape[0]), range(cm.shape[1])):\r\n",
        "        if normalize:\r\n",
        "            plt.text(j, i, \"{:0.4f}\".format(cm[i, j]),\r\n",
        "                     horizontalalignment=\"center\",\r\n",
        "                     color=\"white\" if cm[i, j] > thresh else \"black\")\r\n",
        "        else:\r\n",
        "            plt.text(j, i, \"{:,}\".format(cm[i, j]),\r\n",
        "                     horizontalalignment=\"center\",\r\n",
        "                     color=\"white\" if cm[i, j] > thresh else \"black\")\r\n",
        "\r\n",
        "\r\n",
        "    plt.tight_layout()\r\n",
        "    plt.ylabel('True label')\r\n",
        "    plt.xlabel('Predicted label\\naccuracy={:0.4f}; misclass={:0.4f}'.format(accuracy, misclass))\r\n",
        "    plt.show()\r\n"
      ],
      "execution_count": null,
      "outputs": []
    },
    {
      "cell_type": "code",
      "metadata": {
        "id": "AZ_ItLaxKhQT",
        "colab": {
          "base_uri": "https://localhost:8080/"
        },
        "outputId": "bee15fbe-2371-4e76-a9dc-374e93096847"
      },
      "source": [
        "# Decision Tree\r\n",
        "print( \"Model: Decision tree Classifier\")\r\n",
        "evaluate(y_test, dtpred)\r\n",
        "cdt= confusion_matrix(y_test, dtpred)\r\n",
        "plot_confusion_matrix(cm           = cdt, \r\n",
        "                      normalize    = True,\r\n",
        "                      target_names = ['fake', 'real'],\r\n",
        "                      title        = \"Confusion Matrix\")\r\n"
      ],
      "execution_count": null,
      "outputs": [
        {
          "output_type": "stream",
          "text": [
            "Model: Decision tree Classifier\n",
            "The accuracy score is : 0.9948246862466037\n",
            "The accuracy in % is:  99.48 %\n",
            "The precision score is : [0.99396898 0.99552625]\n",
            "The recall score is : [0.99454023 0.99505766]\n",
            "The f_measure score is : [0.99425452 0.9952919 ] \n",
            "\n"
          ],
          "name": "stdout"
        },
        {
          "output_type": "display_data",
          "data": {
            "image/png": "[encoded data removed]",
            "text/plain": [
              "<Figure size 576x432 with 2 Axes>"
            ]
          },
          "metadata": {
            "tags": []
          }
        }
      ]
    },
    {
      "cell_type": "code",
      "metadata": {
        "id": "ihSNf8abLkqG",
        "colab": {
          "base_uri": "https://localhost:8080/"
        },
        "outputId": "805ec665-dba6-4c96-a262-519b464da7ff"
      },
      "source": [
        "# Multinomial Naive Bayes Sklearn\r\n",
        "print(\"Model:Multinomial Naive Bayes using Sk-learn\")\r\n",
        "evaluate(y_test, MNB_prediction)\r\n",
        "Mnb=confusion_matrix(y_test, MNB_prediction)\r\n",
        "plot_confusion_matrix(cm           = Mnb, \r\n",
        "                      normalize    = True,\r\n",
        "                      target_names = ['fake', 'real'],\r\n",
        "                      title        = \"Confusion Matrix\")\r\n"
      ],
      "execution_count": null,
      "outputs": [
        {
          "output_type": "stream",
          "text": [
            "Model:Multinomial Naive Bayes using Sk-learn\n",
            "The accuracy score is : 0.9455298227455039\n",
            "The accuracy in % is:  94.55 %\n",
            "The precision score is : [0.92935095 0.95879444]\n",
            "The recall score is : [0.9486954  0.94302918]\n",
            "The f_measure score is : [0.93892355 0.95084647] \n",
            "\n"
          ],
          "name": "stdout"
        },
        {
          "output_type": "display_data",
          "data": {
            "image/png": "[encoded data removed]",
            "text/plain": [
              "<Figure size 576x432 with 2 Axes>"
            ]
          },
          "metadata": {
            "tags": []
          }
        }
      ]
    },
    {
      "cell_type": "code",
      "metadata": {
        "id": "PONYuGIaL8bN",
        "colab": {
          "base_uri": "https://localhost:8080/"
        },
        "outputId": "14497efa-fa17-44fe-a0d1-7b59faf436f3"
      },
      "source": [
        "# Naive Bayes Own implementation\r\n",
        "print(\"Model: Naive bayes - own implementation\")\r\n",
        "NBo=confusion_matrix(y_test, predictedY)\r\n",
        "evaluate(y_test, predictedY)\r\n",
        "plot_confusion_matrix(cm           = NBo, \r\n",
        "                      normalize    = True,\r\n",
        "                      target_names = ['fake', 'real'],\r\n",
        "                      title        = \"Confusion Matrix\")"
      ],
      "execution_count": null,
      "outputs": [
        {
          "output_type": "stream",
          "text": [
            "Model: Naive bayes - own implementation\n",
            "The accuracy score is : 0.6473023677060422\n",
            "The accuracy in % is:  64.73 %\n",
            "The precision score is : [0.97989661 0.37461738]\n",
            "The recall score is : [0.562294   0.95785671]\n",
            "The f_measure score is : [0.71455497 0.53859174] \n",
            "\n"
          ],
          "name": "stdout"
        },
        {
          "output_type": "display_data",
          "data": {
            "image/png": "[encoded data removed]",
            "text/plain": [
              "<Figure size 576x432 with 2 Axes>"
            ]
          },
          "metadata": {
            "tags": []
          }
        }
      ]
    },
    {
      "cell_type": "code",
      "metadata": {
        "id": "ztSKzyNqNMCy",
        "colab": {
          "base_uri": "https://localhost:8080/"
        },
        "outputId": "459b769c-de88-4427-9b2e-027483f3e12f"
      },
      "source": [
        "# Logistic regression using Sklearm\r\n",
        "print( \"Model: Logistic regression using Scikit learn\")\r\n",
        "evaluate(y_test, lr_prediction)\r\n",
        "LRs=confusion_matrix(y_test, lr_prediction)\r\n",
        "plot_confusion_matrix(cm           = LRs, \r\n",
        "                      normalize    = True,\r\n",
        "                      target_names = ['fake', 'real'],\r\n",
        "                      title        = \"Confusion Matrix\")"
      ],
      "execution_count": null,
      "outputs": [
        {
          "output_type": "stream",
          "text": [
            "Model: Logistic regression using Scikit learn\n",
            "The accuracy score is : 0.987449864148014\n",
            "The accuracy in % is:  98.74 %\n",
            "The precision score is : [0.97960942 0.99387803]\n",
            "The recall score is : [0.99243526 0.9834576 ]\n",
            "The f_measure score is : [0.98598063 0.98864036] \n",
            "\n"
          ],
          "name": "stdout"
        },
        {
          "output_type": "display_data",
          "data": {
            "image/png": "[encoded data removed]",
            "text/plain": [
              "<Figure size 576x432 with 2 Axes>"
            ]
          },
          "metadata": {
            "tags": []
          }
        }
      ]
    },
    {
      "cell_type": "code",
      "metadata": {
        "id": "PW2vdPYRPVZj",
        "colab": {
          "base_uri": "https://localhost:8080/"
        },
        "outputId": "f462583e-9746-4715-8040-d41344f2ad65"
      },
      "source": [
        "# Logistic regression using own\r\n",
        "print(\"Model: Logistic regression - own implementation\")\r\n",
        "LRo=confusion_matrix(y_test, y_pred)\r\n",
        "evaluate(y_test, y_pred)\r\n",
        "plot_confusion_matrix(cm           = LRo, \r\n",
        "                      normalize    = True,\r\n",
        "                      target_names = ['fake', 'real'],\r\n",
        "                      title        = \"Confusion Matrix\")"
      ],
      "execution_count": null,
      "outputs": [
        {
          "output_type": "stream",
          "text": [
            "Model: Logistic regression - own implementation\n",
            "The accuracy score is : 0.882520377797904\n",
            "The accuracy in % is:  88.25 %\n",
            "The precision score is : [0.74870764 0.99222981]\n",
            "The recall score is : [0.9875     0.82806052]\n",
            "The f_measure score is : [0.85168246 0.90274207] \n",
            "\n"
          ],
          "name": "stdout"
        },
        {
          "output_type": "display_data",
          "data": {
            "image/png": "[encoded data removed]",
            "text/plain": [
              "<Figure size 576x432 with 2 Axes>"
            ]
          },
          "metadata": {
            "tags": []
          }
        }
      ]
    }
  ]
}